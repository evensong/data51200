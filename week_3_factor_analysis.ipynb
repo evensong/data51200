{
 "cells": [
  {
   "cell_type": "markdown",
   "id": "0da37dc2",
   "metadata": {},
   "source": [
    "1. The elbow point appears to be at 6, indicating that 6 factors are present\n",
    "2. Using the Latent Root or Kaiser method, we drop any factor with an eigenvalue of less than 1, indicating that they explain the variance of less than one variable. That leaves us with 5 factors, which seems fairly reasonable."
   ]
  },
  {
   "cell_type": "markdown",
   "id": "5bb51ae6",
   "metadata": {},
   "source": [
    "3.\n",
    "\n",
    "x18- Factor 1\n",
    "x9- Factor 1\n",
    "x16- Factor 1\n",
    "x15- Factor 1, very low loading on all factors, no practical significance\n",
    "x6- Factor 2\n",
    "x11- Factor 2, high crossloading with Factor 1\n",
    "x13- Factor 2\n",
    "x17- Factor 2, high crossloading with Factor 1\n",
    "x12- Factor 3\n",
    "x7- Factor 3\n",
    "x10- Factor 3\n",
    "x8- Factor 4\n",
    "x14- Factor 4\n",
    "\n",
    "x15 has no significant loadings, should be deleted (first edit). x15 and x17 both have very high crossloading, so they are also candidates for deletion. I would delete x15 first, recalculate factors, and if x11 and x17 are still crossloaded, remove x11, recalculate, and then remove x17 if still crossloaded.\n"
   ]
  },
  {
   "cell_type": "code",
   "execution_count": 2,
   "id": "0b1d0fee",
   "metadata": {},
   "outputs": [
    {
     "name": "stderr",
     "output_type": "stream",
     "text": [
      "gdata: read.xls support for 'XLS' (Excel 97-2004) files ENABLED.\n",
      "\n",
      "\n",
      "\n",
      "gdata: read.xls support for 'XLSX' (Excel 2007+) files ENABLED.\n",
      "\n",
      "\n",
      "Attaching package: ‘gdata’\n",
      "\n",
      "\n",
      "The following object is masked from ‘package:stats’:\n",
      "\n",
      "    nobs\n",
      "\n",
      "\n",
      "The following object is masked from ‘package:utils’:\n",
      "\n",
      "    object.size\n",
      "\n",
      "\n",
      "The following object is masked from ‘package:base’:\n",
      "\n",
      "    startsWith\n",
      "\n",
      "\n"
     ]
    }
   ],
   "source": [
    "library(gdata)"
   ]
  },
  {
   "cell_type": "code",
   "execution_count": 19,
   "id": "ffd7399e",
   "metadata": {},
   "outputs": [
    {
     "name": "stderr",
     "output_type": "stream",
     "text": [
      "── \u001b[1mAttaching packages\u001b[22m ─────────────────────────────────────────────────────────────────────────── tidyverse 1.3.1 ──\n",
      "\n",
      "\u001b[32m✔\u001b[39m \u001b[34mggplot2\u001b[39m 3.3.6     \u001b[32m✔\u001b[39m \u001b[34mpurrr  \u001b[39m 0.3.4\n",
      "\u001b[32m✔\u001b[39m \u001b[34mtidyr  \u001b[39m 1.2.0     \u001b[32m✔\u001b[39m \u001b[34mstringr\u001b[39m 1.4.0\n",
      "\u001b[32m✔\u001b[39m \u001b[34mreadr  \u001b[39m 2.1.2     \u001b[32m✔\u001b[39m \u001b[34mforcats\u001b[39m 0.5.1\n",
      "\n",
      "── \u001b[1mConflicts\u001b[22m ────────────────────────────────────────────────────────────────────────────── tidyverse_conflicts() ──\n",
      "\u001b[31m✖\u001b[39m \u001b[34mdplyr\u001b[39m::\u001b[32mcombine()\u001b[39m masks \u001b[34mgdata\u001b[39m::combine()\n",
      "\u001b[31m✖\u001b[39m \u001b[34mdplyr\u001b[39m::\u001b[32mfilter()\u001b[39m  masks \u001b[34mstats\u001b[39m::filter()\n",
      "\u001b[31m✖\u001b[39m \u001b[34mdplyr\u001b[39m::\u001b[32mfirst()\u001b[39m   masks \u001b[34mgdata\u001b[39m::first()\n",
      "\u001b[31m✖\u001b[39m \u001b[34mpurrr\u001b[39m::\u001b[32mkeep()\u001b[39m    masks \u001b[34mgdata\u001b[39m::keep()\n",
      "\u001b[31m✖\u001b[39m \u001b[34mdplyr\u001b[39m::\u001b[32mlag()\u001b[39m     masks \u001b[34mstats\u001b[39m::lag()\n",
      "\u001b[31m✖\u001b[39m \u001b[34mdplyr\u001b[39m::\u001b[32mlast()\u001b[39m    masks \u001b[34mgdata\u001b[39m::last()\n",
      "\n"
     ]
    }
   ],
   "source": [
    "library(tidyverse)"
   ]
  },
  {
   "cell_type": "code",
   "execution_count": 8,
   "id": "67c36f00",
   "metadata": {},
   "outputs": [],
   "source": [
    "hbat <- read.xls('HBAT(7).xls')"
   ]
  },
  {
   "cell_type": "code",
   "execution_count": 10,
   "id": "d82dac5e",
   "metadata": {},
   "outputs": [
    {
     "data": {
      "text/html": [
       "<table class=\"dataframe\">\n",
       "<caption>A data.frame: 6 × 24</caption>\n",
       "<thead>\n",
       "\t<tr><th></th><th scope=col>id</th><th scope=col>x1</th><th scope=col>x2</th><th scope=col>x3</th><th scope=col>x4</th><th scope=col>x5</th><th scope=col>x6</th><th scope=col>x7</th><th scope=col>x8</th><th scope=col>x9</th><th scope=col>⋯</th><th scope=col>x14</th><th scope=col>x15</th><th scope=col>x16</th><th scope=col>x17</th><th scope=col>x18</th><th scope=col>x19</th><th scope=col>x20</th><th scope=col>x21</th><th scope=col>x22</th><th scope=col>x23</th></tr>\n",
       "\t<tr><th></th><th scope=col>&lt;int&gt;</th><th scope=col>&lt;int&gt;</th><th scope=col>&lt;int&gt;</th><th scope=col>&lt;int&gt;</th><th scope=col>&lt;int&gt;</th><th scope=col>&lt;int&gt;</th><th scope=col>&lt;dbl&gt;</th><th scope=col>&lt;dbl&gt;</th><th scope=col>&lt;dbl&gt;</th><th scope=col>&lt;dbl&gt;</th><th scope=col>⋯</th><th scope=col>&lt;dbl&gt;</th><th scope=col>&lt;dbl&gt;</th><th scope=col>&lt;dbl&gt;</th><th scope=col>&lt;dbl&gt;</th><th scope=col>&lt;dbl&gt;</th><th scope=col>&lt;dbl&gt;</th><th scope=col>&lt;dbl&gt;</th><th scope=col>&lt;dbl&gt;</th><th scope=col>&lt;dbl&gt;</th><th scope=col>&lt;int&gt;</th></tr>\n",
       "</thead>\n",
       "<tbody>\n",
       "\t<tr><th scope=row>1</th><td>1</td><td>2</td><td>0</td><td>1</td><td>1</td><td>1</td><td>8.5</td><td>3.9</td><td>2.5</td><td>5.9</td><td>⋯</td><td>4.7</td><td>4.3</td><td>5.0</td><td>5.1</td><td>3.7</td><td>8.2</td><td>8.0</td><td>8.4</td><td>65.1</td><td>1</td></tr>\n",
       "\t<tr><th scope=row>2</th><td>2</td><td>3</td><td>1</td><td>0</td><td>0</td><td>0</td><td>8.2</td><td>2.7</td><td>5.1</td><td>7.2</td><td>⋯</td><td>5.5</td><td>4.0</td><td>3.9</td><td>4.3</td><td>4.9</td><td>5.7</td><td>6.5</td><td>7.5</td><td>67.1</td><td>0</td></tr>\n",
       "\t<tr><th scope=row>3</th><td>3</td><td>3</td><td>0</td><td>1</td><td>1</td><td>1</td><td>9.2</td><td>3.4</td><td>5.6</td><td>5.6</td><td>⋯</td><td>6.2</td><td>4.6</td><td>5.4</td><td>4.0</td><td>4.5</td><td>8.9</td><td>8.4</td><td>9.0</td><td>72.1</td><td>1</td></tr>\n",
       "\t<tr><th scope=row>4</th><td>4</td><td>1</td><td>1</td><td>1</td><td>1</td><td>0</td><td>6.4</td><td>3.3</td><td>7.0</td><td>3.7</td><td>⋯</td><td>7.0</td><td>3.6</td><td>4.3</td><td>4.1</td><td>3.0</td><td>4.8</td><td>6.0</td><td>7.2</td><td>40.1</td><td>0</td></tr>\n",
       "\t<tr><th scope=row>5</th><td>5</td><td>2</td><td>0</td><td>1</td><td>0</td><td>1</td><td>9.0</td><td>3.4</td><td>5.2</td><td>4.6</td><td>⋯</td><td>6.1</td><td>4.5</td><td>4.5</td><td>3.5</td><td>3.5</td><td>7.1</td><td>6.6</td><td>9.0</td><td>57.1</td><td>0</td></tr>\n",
       "\t<tr><th scope=row>6</th><td>6</td><td>1</td><td>1</td><td>0</td><td>1</td><td>0</td><td>6.5</td><td>2.8</td><td>3.1</td><td>4.1</td><td>⋯</td><td>5.1</td><td>9.5</td><td>3.6</td><td>4.7</td><td>3.3</td><td>4.7</td><td>6.3</td><td>6.1</td><td>50.1</td><td>0</td></tr>\n",
       "</tbody>\n",
       "</table>\n"
      ],
      "text/latex": [
       "A data.frame: 6 × 24\n",
       "\\begin{tabular}{r|lllllllllllllllllllll}\n",
       "  & id & x1 & x2 & x3 & x4 & x5 & x6 & x7 & x8 & x9 & ⋯ & x14 & x15 & x16 & x17 & x18 & x19 & x20 & x21 & x22 & x23\\\\\n",
       "  & <int> & <int> & <int> & <int> & <int> & <int> & <dbl> & <dbl> & <dbl> & <dbl> & ⋯ & <dbl> & <dbl> & <dbl> & <dbl> & <dbl> & <dbl> & <dbl> & <dbl> & <dbl> & <int>\\\\\n",
       "\\hline\n",
       "\t1 & 1 & 2 & 0 & 1 & 1 & 1 & 8.5 & 3.9 & 2.5 & 5.9 & ⋯ & 4.7 & 4.3 & 5.0 & 5.1 & 3.7 & 8.2 & 8.0 & 8.4 & 65.1 & 1\\\\\n",
       "\t2 & 2 & 3 & 1 & 0 & 0 & 0 & 8.2 & 2.7 & 5.1 & 7.2 & ⋯ & 5.5 & 4.0 & 3.9 & 4.3 & 4.9 & 5.7 & 6.5 & 7.5 & 67.1 & 0\\\\\n",
       "\t3 & 3 & 3 & 0 & 1 & 1 & 1 & 9.2 & 3.4 & 5.6 & 5.6 & ⋯ & 6.2 & 4.6 & 5.4 & 4.0 & 4.5 & 8.9 & 8.4 & 9.0 & 72.1 & 1\\\\\n",
       "\t4 & 4 & 1 & 1 & 1 & 1 & 0 & 6.4 & 3.3 & 7.0 & 3.7 & ⋯ & 7.0 & 3.6 & 4.3 & 4.1 & 3.0 & 4.8 & 6.0 & 7.2 & 40.1 & 0\\\\\n",
       "\t5 & 5 & 2 & 0 & 1 & 0 & 1 & 9.0 & 3.4 & 5.2 & 4.6 & ⋯ & 6.1 & 4.5 & 4.5 & 3.5 & 3.5 & 7.1 & 6.6 & 9.0 & 57.1 & 0\\\\\n",
       "\t6 & 6 & 1 & 1 & 0 & 1 & 0 & 6.5 & 2.8 & 3.1 & 4.1 & ⋯ & 5.1 & 9.5 & 3.6 & 4.7 & 3.3 & 4.7 & 6.3 & 6.1 & 50.1 & 0\\\\\n",
       "\\end{tabular}\n"
      ],
      "text/markdown": [
       "\n",
       "A data.frame: 6 × 24\n",
       "\n",
       "| <!--/--> | id &lt;int&gt; | x1 &lt;int&gt; | x2 &lt;int&gt; | x3 &lt;int&gt; | x4 &lt;int&gt; | x5 &lt;int&gt; | x6 &lt;dbl&gt; | x7 &lt;dbl&gt; | x8 &lt;dbl&gt; | x9 &lt;dbl&gt; | ⋯ ⋯ | x14 &lt;dbl&gt; | x15 &lt;dbl&gt; | x16 &lt;dbl&gt; | x17 &lt;dbl&gt; | x18 &lt;dbl&gt; | x19 &lt;dbl&gt; | x20 &lt;dbl&gt; | x21 &lt;dbl&gt; | x22 &lt;dbl&gt; | x23 &lt;int&gt; |\n",
       "|---|---|---|---|---|---|---|---|---|---|---|---|---|---|---|---|---|---|---|---|---|---|\n",
       "| 1 | 1 | 2 | 0 | 1 | 1 | 1 | 8.5 | 3.9 | 2.5 | 5.9 | ⋯ | 4.7 | 4.3 | 5.0 | 5.1 | 3.7 | 8.2 | 8.0 | 8.4 | 65.1 | 1 |\n",
       "| 2 | 2 | 3 | 1 | 0 | 0 | 0 | 8.2 | 2.7 | 5.1 | 7.2 | ⋯ | 5.5 | 4.0 | 3.9 | 4.3 | 4.9 | 5.7 | 6.5 | 7.5 | 67.1 | 0 |\n",
       "| 3 | 3 | 3 | 0 | 1 | 1 | 1 | 9.2 | 3.4 | 5.6 | 5.6 | ⋯ | 6.2 | 4.6 | 5.4 | 4.0 | 4.5 | 8.9 | 8.4 | 9.0 | 72.1 | 1 |\n",
       "| 4 | 4 | 1 | 1 | 1 | 1 | 0 | 6.4 | 3.3 | 7.0 | 3.7 | ⋯ | 7.0 | 3.6 | 4.3 | 4.1 | 3.0 | 4.8 | 6.0 | 7.2 | 40.1 | 0 |\n",
       "| 5 | 5 | 2 | 0 | 1 | 0 | 1 | 9.0 | 3.4 | 5.2 | 4.6 | ⋯ | 6.1 | 4.5 | 4.5 | 3.5 | 3.5 | 7.1 | 6.6 | 9.0 | 57.1 | 0 |\n",
       "| 6 | 6 | 1 | 1 | 0 | 1 | 0 | 6.5 | 2.8 | 3.1 | 4.1 | ⋯ | 5.1 | 9.5 | 3.6 | 4.7 | 3.3 | 4.7 | 6.3 | 6.1 | 50.1 | 0 |\n",
       "\n"
      ],
      "text/plain": [
       "  id x1 x2 x3 x4 x5 x6  x7  x8  x9  ⋯ x14 x15 x16 x17 x18 x19 x20 x21 x22  x23\n",
       "1 1  2  0  1  1  1  8.5 3.9 2.5 5.9 ⋯ 4.7 4.3 5.0 5.1 3.7 8.2 8.0 8.4 65.1 1  \n",
       "2 2  3  1  0  0  0  8.2 2.7 5.1 7.2 ⋯ 5.5 4.0 3.9 4.3 4.9 5.7 6.5 7.5 67.1 0  \n",
       "3 3  3  0  1  1  1  9.2 3.4 5.6 5.6 ⋯ 6.2 4.6 5.4 4.0 4.5 8.9 8.4 9.0 72.1 1  \n",
       "4 4  1  1  1  1  0  6.4 3.3 7.0 3.7 ⋯ 7.0 3.6 4.3 4.1 3.0 4.8 6.0 7.2 40.1 0  \n",
       "5 5  2  0  1  0  1  9.0 3.4 5.2 4.6 ⋯ 6.1 4.5 4.5 3.5 3.5 7.1 6.6 9.0 57.1 0  \n",
       "6 6  1  1  0  1  0  6.5 2.8 3.1 4.1 ⋯ 5.1 9.5 3.6 4.7 3.3 4.7 6.3 6.1 50.1 0  "
      ]
     },
     "metadata": {},
     "output_type": "display_data"
    }
   ],
   "source": [
    "head(hbat)"
   ]
  },
  {
   "cell_type": "code",
   "execution_count": 15,
   "id": "4c6c0b55",
   "metadata": {},
   "outputs": [],
   "source": [
    "hbat %>% select(x6:x18) -> data"
   ]
  },
  {
   "cell_type": "code",
   "execution_count": 17,
   "id": "89381d3f",
   "metadata": {},
   "outputs": [],
   "source": [
    "data %>% select(!c(x15,x17)) -> data"
   ]
  },
  {
   "cell_type": "code",
   "execution_count": 18,
   "id": "07a94a21",
   "metadata": {},
   "outputs": [
    {
     "data": {
      "text/html": [
       "<table class=\"dataframe\">\n",
       "<caption>A data.frame: 6 × 11</caption>\n",
       "<thead>\n",
       "\t<tr><th></th><th scope=col>x6</th><th scope=col>x7</th><th scope=col>x8</th><th scope=col>x9</th><th scope=col>x10</th><th scope=col>x11</th><th scope=col>x12</th><th scope=col>x13</th><th scope=col>x14</th><th scope=col>x16</th><th scope=col>x18</th></tr>\n",
       "\t<tr><th></th><th scope=col>&lt;dbl&gt;</th><th scope=col>&lt;dbl&gt;</th><th scope=col>&lt;dbl&gt;</th><th scope=col>&lt;dbl&gt;</th><th scope=col>&lt;dbl&gt;</th><th scope=col>&lt;dbl&gt;</th><th scope=col>&lt;dbl&gt;</th><th scope=col>&lt;dbl&gt;</th><th scope=col>&lt;dbl&gt;</th><th scope=col>&lt;dbl&gt;</th><th scope=col>&lt;dbl&gt;</th></tr>\n",
       "</thead>\n",
       "<tbody>\n",
       "\t<tr><th scope=row>1</th><td>8.5</td><td>3.9</td><td>2.5</td><td>5.9</td><td>4.8</td><td>4.9</td><td>6.0</td><td>6.8</td><td>4.7</td><td>5.0</td><td>3.7</td></tr>\n",
       "\t<tr><th scope=row>2</th><td>8.2</td><td>2.7</td><td>5.1</td><td>7.2</td><td>3.4</td><td>7.9</td><td>3.1</td><td>5.3</td><td>5.5</td><td>3.9</td><td>4.9</td></tr>\n",
       "\t<tr><th scope=row>3</th><td>9.2</td><td>3.4</td><td>5.6</td><td>5.6</td><td>5.4</td><td>7.4</td><td>5.8</td><td>4.5</td><td>6.2</td><td>5.4</td><td>4.5</td></tr>\n",
       "\t<tr><th scope=row>4</th><td>6.4</td><td>3.3</td><td>7.0</td><td>3.7</td><td>4.7</td><td>4.7</td><td>4.5</td><td>8.8</td><td>7.0</td><td>4.3</td><td>3.0</td></tr>\n",
       "\t<tr><th scope=row>5</th><td>9.0</td><td>3.4</td><td>5.2</td><td>4.6</td><td>2.2</td><td>6.0</td><td>4.5</td><td>6.8</td><td>6.1</td><td>4.5</td><td>3.5</td></tr>\n",
       "\t<tr><th scope=row>6</th><td>6.5</td><td>2.8</td><td>3.1</td><td>4.1</td><td>4.0</td><td>4.3</td><td>3.7</td><td>8.5</td><td>5.1</td><td>3.6</td><td>3.3</td></tr>\n",
       "</tbody>\n",
       "</table>\n"
      ],
      "text/latex": [
       "A data.frame: 6 × 11\n",
       "\\begin{tabular}{r|lllllllllll}\n",
       "  & x6 & x7 & x8 & x9 & x10 & x11 & x12 & x13 & x14 & x16 & x18\\\\\n",
       "  & <dbl> & <dbl> & <dbl> & <dbl> & <dbl> & <dbl> & <dbl> & <dbl> & <dbl> & <dbl> & <dbl>\\\\\n",
       "\\hline\n",
       "\t1 & 8.5 & 3.9 & 2.5 & 5.9 & 4.8 & 4.9 & 6.0 & 6.8 & 4.7 & 5.0 & 3.7\\\\\n",
       "\t2 & 8.2 & 2.7 & 5.1 & 7.2 & 3.4 & 7.9 & 3.1 & 5.3 & 5.5 & 3.9 & 4.9\\\\\n",
       "\t3 & 9.2 & 3.4 & 5.6 & 5.6 & 5.4 & 7.4 & 5.8 & 4.5 & 6.2 & 5.4 & 4.5\\\\\n",
       "\t4 & 6.4 & 3.3 & 7.0 & 3.7 & 4.7 & 4.7 & 4.5 & 8.8 & 7.0 & 4.3 & 3.0\\\\\n",
       "\t5 & 9.0 & 3.4 & 5.2 & 4.6 & 2.2 & 6.0 & 4.5 & 6.8 & 6.1 & 4.5 & 3.5\\\\\n",
       "\t6 & 6.5 & 2.8 & 3.1 & 4.1 & 4.0 & 4.3 & 3.7 & 8.5 & 5.1 & 3.6 & 3.3\\\\\n",
       "\\end{tabular}\n"
      ],
      "text/markdown": [
       "\n",
       "A data.frame: 6 × 11\n",
       "\n",
       "| <!--/--> | x6 &lt;dbl&gt; | x7 &lt;dbl&gt; | x8 &lt;dbl&gt; | x9 &lt;dbl&gt; | x10 &lt;dbl&gt; | x11 &lt;dbl&gt; | x12 &lt;dbl&gt; | x13 &lt;dbl&gt; | x14 &lt;dbl&gt; | x16 &lt;dbl&gt; | x18 &lt;dbl&gt; |\n",
       "|---|---|---|---|---|---|---|---|---|---|---|---|\n",
       "| 1 | 8.5 | 3.9 | 2.5 | 5.9 | 4.8 | 4.9 | 6.0 | 6.8 | 4.7 | 5.0 | 3.7 |\n",
       "| 2 | 8.2 | 2.7 | 5.1 | 7.2 | 3.4 | 7.9 | 3.1 | 5.3 | 5.5 | 3.9 | 4.9 |\n",
       "| 3 | 9.2 | 3.4 | 5.6 | 5.6 | 5.4 | 7.4 | 5.8 | 4.5 | 6.2 | 5.4 | 4.5 |\n",
       "| 4 | 6.4 | 3.3 | 7.0 | 3.7 | 4.7 | 4.7 | 4.5 | 8.8 | 7.0 | 4.3 | 3.0 |\n",
       "| 5 | 9.0 | 3.4 | 5.2 | 4.6 | 2.2 | 6.0 | 4.5 | 6.8 | 6.1 | 4.5 | 3.5 |\n",
       "| 6 | 6.5 | 2.8 | 3.1 | 4.1 | 4.0 | 4.3 | 3.7 | 8.5 | 5.1 | 3.6 | 3.3 |\n",
       "\n"
      ],
      "text/plain": [
       "  x6  x7  x8  x9  x10 x11 x12 x13 x14 x16 x18\n",
       "1 8.5 3.9 2.5 5.9 4.8 4.9 6.0 6.8 4.7 5.0 3.7\n",
       "2 8.2 2.7 5.1 7.2 3.4 7.9 3.1 5.3 5.5 3.9 4.9\n",
       "3 9.2 3.4 5.6 5.6 5.4 7.4 5.8 4.5 6.2 5.4 4.5\n",
       "4 6.4 3.3 7.0 3.7 4.7 4.7 4.5 8.8 7.0 4.3 3.0\n",
       "5 9.0 3.4 5.2 4.6 2.2 6.0 4.5 6.8 6.1 4.5 3.5\n",
       "6 6.5 2.8 3.1 4.1 4.0 4.3 3.7 8.5 5.1 3.6 3.3"
      ]
     },
     "metadata": {},
     "output_type": "display_data"
    }
   ],
   "source": [
    "head(data)"
   ]
  },
  {
   "cell_type": "code",
   "execution_count": 27,
   "id": "d697498c",
   "metadata": {},
   "outputs": [],
   "source": [
    "cov(data) -> data.cov"
   ]
  },
  {
   "cell_type": "code",
   "execution_count": 28,
   "id": "f9fad0a0",
   "metadata": {},
   "outputs": [
    {
     "data": {
      "text/plain": [
       "eigen() decomposition\n",
       "$values\n",
       " [1] 4.80197660 3.09203585 2.48814620 1.47904219 1.18584833 0.61614985\n",
       " [7] 0.55092607 0.27633557 0.17356669 0.12113771 0.06884302\n",
       "\n",
       "$vectors\n",
       "             [,1]         [,2]        [,3]         [,4]         [,5]\n",
       " [1,]  0.38386537  0.175374853  0.31701635  0.584760710  0.543313122\n",
       " [2,] -0.04081286 -0.233865176 -0.09621548  0.235127357 -0.079857662\n",
       " [3,]  0.35882547  0.116362466 -0.80316142 -0.008213896  0.176021503\n",
       " [4,]  0.29617759 -0.477515094  0.10101477 -0.326589511  0.074189946\n",
       " [5,] -0.02867273 -0.397525493 -0.05553098  0.496211153 -0.292543922\n",
       " [6,]  0.49854016 -0.144672638  0.21053856 -0.094499304  0.106822743\n",
       " [7,] -0.05965186 -0.431101356 -0.17608650  0.394764553 -0.130562987\n",
       " [8,] -0.53074498 -0.322816712 -0.11744666 -0.074536591  0.735411175\n",
       " [9,]  0.18964222  0.001599193 -0.36637907  0.007164500  0.067810078\n",
       "[10,]  0.19754619 -0.328878411  0.05729911 -0.214594114  0.048994092\n",
       "[11,]  0.15780732 -0.309532853  0.07241415 -0.182727981  0.008827518\n",
       "              [,6]        [,7]         [,8]        [,9]        [,10]\n",
       " [1,] -0.061850160 -0.25977444 -0.047494097  0.03589908 -0.021867575\n",
       " [2,]  0.407435208 -0.06175077  0.064180002 -0.46535625 -0.690589900\n",
       " [3,] -0.103334943 -0.01771608 -0.225030825 -0.30946683  0.154640514\n",
       " [4,] -0.093662393 -0.25251971 -0.532965196  0.26186509 -0.274469965\n",
       " [5,] -0.657570172  0.25890255  0.008488262 -0.03837052 -0.043762693\n",
       " [6,]  0.235989520  0.72442602  0.130445636 -0.11850995  0.089381493\n",
       " [7,]  0.543537798 -0.12583901 -0.063711379  0.25259063  0.472177682\n",
       " [8,] -0.065499835  0.21370749  0.036892486 -0.02447182  0.004097257\n",
       " [9,]  0.005223555  0.06776024  0.473619262  0.67113192 -0.365726656\n",
       "[10,] -0.147043725 -0.45243971  0.640841809 -0.28992601  0.200552095\n",
       "[11,] -0.035469164  0.04473186 -0.037851378 -0.05847071  0.128491417\n",
       "            [,11]\n",
       " [1,] -0.09448073\n",
       " [2,] -0.07290623\n",
       " [3,]  0.01644738\n",
       " [4,]  0.24777307\n",
       " [5,]  0.05806573\n",
       " [6,]  0.21523476\n",
       " [7,]  0.06796581\n",
       " [8,]  0.04452286\n",
       " [9,] -0.10973665\n",
       "[10,]  0.19949998\n",
       "[11,] -0.90330195\n"
      ]
     },
     "metadata": {},
     "output_type": "display_data"
    }
   ],
   "source": [
    "eigen(data.cov) -> data.pc\n",
    "data.pc"
   ]
  },
  {
   "cell_type": "markdown",
   "id": "f3ef6ffc",
   "metadata": {},
   "source": [
    "We have five eigenvalues over 1, so by the Kaiser rule, we have 5 factors."
   ]
  },
  {
   "cell_type": "code",
   "execution_count": 30,
   "id": "666edf00",
   "metadata": {},
   "outputs": [
    {
     "data": {
      "text/plain": [
       "Standard deviations (1, .., p=11):\n",
       " [1] 1.8512081 1.5971527 1.3003755 1.0423800 0.7806562 0.7428888 0.6336546\n",
       " [8] 0.4969422 0.4511688 0.3644744 0.3137308\n",
       "\n",
       "Rotation (n x k) = (11 x 5):\n",
       "           PC1         PC2         PC3        PC4         PC5\n",
       "x6  -0.1337896 -0.31349802  0.06227164  0.6431362 -0.23166620\n",
       "x7  -0.1659528  0.44650918 -0.23524791  0.2723803 -0.42228844\n",
       "x8  -0.1576926 -0.23096734 -0.61095105 -0.1933931  0.02395667\n",
       "x9  -0.4706836  0.01944394  0.21035078 -0.2063204 -0.02865743\n",
       "x10 -0.1837350  0.36366471 -0.08809705  0.3178945  0.80387024\n",
       "x11 -0.3867652 -0.28478056  0.11627864  0.2029023 -0.11667416\n",
       "x12 -0.2036696  0.47069599 -0.24134210  0.2221772 -0.20437283\n",
       "x13  0.1516886  0.41345650  0.05304529 -0.3335435 -0.24892601\n",
       "x14 -0.2129336 -0.19167191 -0.59856398 -0.1853020  0.03292706\n",
       "x16 -0.4372177  0.02639905  0.16892981 -0.2368536 -0.02675377\n",
       "x18 -0.4730891  0.07305172  0.23262477 -0.1973299  0.03543294"
      ]
     },
     "metadata": {},
     "output_type": "display_data"
    }
   ],
   "source": [
    "prcomp(data, rank = 5, center = TRUE, scale = TRUE, retx = TRUE)"
   ]
  },
  {
   "cell_type": "markdown",
   "id": "40e30757",
   "metadata": {},
   "source": [
    "x6- 4\n",
    "\n",
    "x7- 2 \n",
    "\n",
    "x8- 3\n",
    "\n",
    "x9- 1\n",
    "\n",
    "x10- 5\n",
    "\n",
    "x11- 1\n",
    "\n",
    "x12- 2\n",
    "\n",
    "x13- 2\n",
    "\n",
    "x14- 3\n",
    "\n",
    "x16- 1\n",
    "\n",
    "x18- 1\n",
    "\n",
    "Main problem: very few of the factors are significant. This indicates that we ought to drop the variables with least significant loading (like x11 and recalculate) and also drop those with problematic crossloading."
   ]
  }
 ],
 "metadata": {
  "kernelspec": {
   "display_name": "R",
   "language": "R",
   "name": "ir"
  },
  "language_info": {
   "codemirror_mode": "r",
   "file_extension": ".r",
   "mimetype": "text/x-r-source",
   "name": "R",
   "pygments_lexer": "r",
   "version": "4.2.0"
  }
 },
 "nbformat": 4,
 "nbformat_minor": 5
}
